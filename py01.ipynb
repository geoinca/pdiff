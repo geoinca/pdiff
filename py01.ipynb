{
 "cells": [
  {
   "cell_type": "code",
   "execution_count": 39,
   "id": "accessible-expression",
   "metadata": {},
   "outputs": [],
   "source": [
    "import cv2\n",
    "import numpy as np\n",
    "import os"
   ]
  },
  {
   "cell_type": "code",
   "execution_count": 40,
   "id": "according-holocaust",
   "metadata": {},
   "outputs": [],
   "source": [
    "#os.chrdir()\n",
    "img01=cv2.imread(\"imgsource/A02-1.jpg\",1 )\n",
    "img02=cv2.imread(\"imgsource/A02-2.jpg\",1 )"
   ]
  },
  {
   "cell_type": "code",
   "execution_count": 41,
   "id": "transparent-carpet",
   "metadata": {},
   "outputs": [],
   "source": [
    "fondo = cv2.cvtColor(img01, cv2.COLOR_BGR2GRAY)\n",
    "fondo = cv2.GaussianBlur(fondo, (21, 21), 0)\n",
    "gris= cv2.cvtColor(img02, cv2.COLOR_BGR2GRAY)\n",
    "gris = cv2.GaussianBlur(gris, (21, 21), 0)"
   ]
  },
  {
   "cell_type": "code",
   "execution_count": 42,
   "id": "exposed-equity",
   "metadata": {},
   "outputs": [],
   "source": [
    "imas=np.hstack((img01,img02))\n",
    "cv2.imshow(\"d\",imas)\n",
    "#cv2.waitKey(0) "
   ]
  },
  {
   "cell_type": "code",
   "execution_count": 43,
   "id": "disciplinary-hungarian",
   "metadata": {},
   "outputs": [],
   "source": [
    "# Calculo de la diferencia entre el fondo y el frame actual\n",
    "resta = cv2.absdiff(fondo, gris)"
   ]
  },
  {
   "cell_type": "code",
   "execution_count": 44,
   "id": "individual-metadata",
   "metadata": {},
   "outputs": [],
   "source": [
    "# Aplicamos un umbral\n",
    "umbral = cv2.threshold(resta, 25, 255, cv2.THRESH_BINARY)[1]"
   ]
  },
  {
   "cell_type": "code",
   "execution_count": 46,
   "id": "fifth-mainland",
   "metadata": {},
   "outputs": [],
   "source": [
    "# Copiamos el umbral para detectar los contornos\n",
    "contornosimg = umbral.copy()"
   ]
  },
  {
   "cell_type": "code",
   "execution_count": 47,
   "id": "international-summit",
   "metadata": {},
   "outputs": [
    {
     "data": {
      "text/plain": [
       "True"
      ]
     },
     "execution_count": 47,
     "metadata": {},
     "output_type": "execute_result"
    }
   ],
   "source": [
    "cv2.imwrite(\"imgsource/imgdif.jpg\",umbral) "
   ]
  },
  {
   "cell_type": "code",
   "execution_count": null,
   "id": "coordinate-monthly",
   "metadata": {},
   "outputs": [],
   "source": []
  },
  {
   "cell_type": "code",
   "execution_count": null,
   "id": "partial-italy",
   "metadata": {},
   "outputs": [],
   "source": []
  },
  {
   "cell_type": "code",
   "execution_count": null,
   "id": "compressed-jamaica",
   "metadata": {},
   "outputs": [],
   "source": []
  }
 ],
 "metadata": {
  "kernelspec": {
   "display_name": "Python 3",
   "language": "python",
   "name": "python3"
  },
  "language_info": {
   "codemirror_mode": {
    "name": "ipython",
    "version": 3
   },
   "file_extension": ".py",
   "mimetype": "text/x-python",
   "name": "python",
   "nbconvert_exporter": "python",
   "pygments_lexer": "ipython3",
   "version": "3.6.8"
  }
 },
 "nbformat": 4,
 "nbformat_minor": 5
}
