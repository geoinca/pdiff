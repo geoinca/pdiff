{
 "cells": [
  {
   "cell_type": "code",
   "execution_count": null,
   "id": "accessible-expression",
   "metadata": {},
   "outputs": [],
   "source": [
    "import cv2\n",
    "import numpy as np\n",
    "import os"
   ]
  },
  {
   "cell_type": "code",
   "execution_count": null,
   "id": "according-holocaust",
   "metadata": {
    "collapsed": true
   },
   "outputs": [],
   "source": [
    "os.chrdir()\n",
    "img01=cv2.imread(\"\",1)\n",
    "img02=cv2.imread(\"\",1)"
   ]
  },
  {
   "cell_type": "code",
   "execution_count": null,
   "id": "transparent-carpet",
   "metadata": {},
   "outputs": [],
   "source": [
    "cv2.imshow(\"\",img01)"
   ]
  },
  {
   "cell_type": "code",
   "execution_count": null,
   "id": "disciplinary-hungarian",
   "metadata": {},
   "outputs": [],
   "source": [
    "imgdif=cv2.subtract(img01,img02)"
   ]
  }
 ],
 "metadata": {
  "kernelspec": {
   "display_name": "Python 3",
   "language": "python",
   "name": "python3"
  }
 },
 "nbformat": 4,
 "nbformat_minor": 5
}
